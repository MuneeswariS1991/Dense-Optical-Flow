{
 "cells": [
  {
   "cell_type": "code",
   "execution_count": null,
   "metadata": {},
   "outputs": [],
   "source": [
    "#Gunnar-Farneback optical flow\n",
    "# Importing libraries \n",
    "import cv2 \n",
    "import numpy as np \n",
    "# Capturing the video file 0 for videocam else you can provide the url \n",
    "capture = cv2.VideoCapture(\"D:/IRDE/Frame separation input/Input/Video 6.mp4\") \n",
    "\n",
    "# Reading the first frame \n",
    "_, frame1 = capture.read() \n",
    "# Convert to gray scale \n",
    "prvs = cv2.cvtColor(frame1, cv2.COLOR_BGR2GRAY) \n",
    "# Create mask \n",
    "hsv_mask = np.zeros_like(frame1) \n",
    "# Make image saturation to a maximum value \n",
    "hsv_mask[..., 1] = 255\n",
    "\n",
    "# Till you scan the video \n",
    "while(1): \n",
    "\t\n",
    "\t# Capture another frame and convert to gray scale \n",
    "\t_, frame2 = capture.read() \n",
    "\tnext = cv2.cvtColor(frame2, cv2.COLOR_BGR2GRAY) \n",
    "\n",
    "\t# Optical flow is now calculated \n",
    "\tflow = cv2.calcOpticalFlowFarneback(prvs, next, None, 0.5, 3, 15, 3, 5, 1.2, 0) \n",
    "\t# Compute magnite and angle of 2D vector \n",
    "\tmag, ang = cv2.cartToPolar(flow[..., 0], flow[..., 1]) \n",
    "\t# Set image hue value according to the angle of optical flow \n",
    "\thsv_mask[..., 0] = ang * 180 / np.pi / 2\n",
    "\t# Set value as per the normalized magnitude of optical flow \n",
    "\thsv_mask[..., 2] = cv2.normalize(mag, None, 0, 255, cv2.NORM_MINMAX) \n",
    "\t# Convert to rgb \n",
    "\trgb_representation = cv2.cvtColor(hsv_mask, cv2.COLOR_HSV2BGR) \n",
    "\n",
    "\tcv2.imshow('Gunnarframe', rgb_representation) \n",
    "\tkk = cv2.waitKey(20) & 0xff\n",
    "\t# Press 'e' to exit the video \n",
    "\tif kk == ord('e'): \n",
    "\t\tbreak\n",
    "\t# Press 's' to save the video \n",
    "\telif kk == ord('s'): \n",
    "\t\tcv2.imwrite('Optical_image.png', Gunnarframe) \n",
    "\t\tcv2.imwrite('HSV_converted_image.png', rgb_representation) \n",
    "\tprvs = next\n",
    "\n",
    "capture.release() \n",
    "cv2.destroyAllWindows() \n"
   ]
  },
  {
   "cell_type": "code",
   "execution_count": null,
   "metadata": {},
   "outputs": [],
   "source": []
  },
  {
   "cell_type": "code",
   "execution_count": null,
   "metadata": {},
   "outputs": [],
   "source": []
  }
 ],
 "metadata": {
  "kernelspec": {
   "display_name": "Python 3",
   "language": "python",
   "name": "python3"
  },
  "language_info": {
   "codemirror_mode": {
    "name": "ipython",
    "version": 3
   },
   "file_extension": ".py",
   "mimetype": "text/x-python",
   "name": "python",
   "nbconvert_exporter": "python",
   "pygments_lexer": "ipython3",
   "version": "3.7.6"
  }
 },
 "nbformat": 4,
 "nbformat_minor": 4
}
